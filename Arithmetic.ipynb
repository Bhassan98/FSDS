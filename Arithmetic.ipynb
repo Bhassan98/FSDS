{
 "cells": [
  {
   "cell_type": "code",
   "execution_count": 11,
   "metadata": {},
   "outputs": [
    {
     "name": "stdout",
     "output_type": "stream",
     "text": [
      "-22\n",
      "2\n"
     ]
    }
   ],
   "source": [
    "# Operation 1:\n",
    "print(4 * (2 - 8) + 2)\n",
    "# Operation 2:\n",
    "print(4 * 2 - 8 + 2)"
   ]
  },
  {
   "cell_type": "code",
   "execution_count": 12,
   "metadata": {},
   "outputs": [
    {
     "name": "stdout",
     "output_type": "stream",
     "text": [
      "16\n"
     ]
    }
   ],
   "source": [
    "# ** is the same as power \n",
    "print(2**4)"
   ]
  },
  {
   "cell_type": "code",
   "execution_count": 1,
   "metadata": {},
   "outputs": [
    {
     "name": "stdout",
     "output_type": "stream",
     "text": [
      "2.0\n"
     ]
    },
    {
     "data": {
      "text/plain": [
       "16.0"
      ]
     },
     "execution_count": 1,
     "metadata": {},
     "output_type": "execute_result"
    }
   ],
   "source": [
    "# use 1.0/n.0, n=sq root\n",
    "         \n",
    "print(256**(1.0/8.0)) \n",
    "\n",
    "import math\n",
    "math.sqrt(256)"
   ]
  },
  {
   "cell_type": "code",
   "execution_count": 3,
   "metadata": {},
   "outputs": [
    {
     "name": "stdout",
     "output_type": "stream",
     "text": [
      "1\n"
     ]
    }
   ],
   "source": [
    "#Moduelo Operator - print(%) shows remiander\n",
    "\n",
    "print(9%2)"
   ]
  },
  {
   "cell_type": "code",
   "execution_count": null,
   "metadata": {},
   "outputs": [],
   "source": [
    "#use the int function to return integer value \n",
    "print( int(22.0/7) )\n"
   ]
  },
  {
   "cell_type": "code",
   "execution_count": 8,
   "metadata": {},
   "outputs": [
    {
     "ename": "TypeError",
     "evalue": "my_function() takes 2 positional arguments but 3 were given",
     "output_type": "error",
     "traceback": [
      "\u001b[0;31m---------------------------------------------------------------------------\u001b[0m",
      "\u001b[0;31mTypeError\u001b[0m                                 Traceback (most recent call last)",
      "\u001b[1;32m/Users/bashir/Documents/UCL/Foundations of Spatial Data Science/Arithmetic.ipynb Cell 6\u001b[0m line \u001b[0;36m8\n\u001b[1;32m      <a href='vscode-notebook-cell:/Users/bashir/Documents/UCL/Foundations%20of%20Spatial%20Data%20Science/Arithmetic.ipynb#W6sZmlsZQ%3D%3D?line=4'>5</a>\u001b[0m pi \u001b[39m=\u001b[39m \u001b[39m3.142\u001b[39m\n\u001b[1;32m      <a href='vscode-notebook-cell:/Users/bashir/Documents/UCL/Foundations%20of%20Spatial%20Data%20Science/Arithmetic.ipynb#W6sZmlsZQ%3D%3D?line=5'>6</a>\u001b[0m r \u001b[39m=\u001b[39m \u001b[39m6\u001b[39m \n\u001b[0;32m----> <a href='vscode-notebook-cell:/Users/bashir/Documents/UCL/Foundations%20of%20Spatial%20Data%20Science/Arithmetic.ipynb#W6sZmlsZQ%3D%3D?line=7'>8</a>\u001b[0m my_function(pi, r,\u001b[39m4\u001b[39;49m)\n\u001b[1;32m     <a href='vscode-notebook-cell:/Users/bashir/Documents/UCL/Foundations%20of%20Spatial%20Data%20Science/Arithmetic.ipynb#W6sZmlsZQ%3D%3D?line=9'>10</a>\u001b[0m \u001b[39m# A=(pi*(r**2))\u001b[39;00m\n\u001b[1;32m     <a href='vscode-notebook-cell:/Users/bashir/Documents/UCL/Foundations%20of%20Spatial%20Data%20Science/Arithmetic.ipynb#W6sZmlsZQ%3D%3D?line=10'>11</a>\u001b[0m \n\u001b[1;32m     <a href='vscode-notebook-cell:/Users/bashir/Documents/UCL/Foundations%20of%20Spatial%20Data%20Science/Arithmetic.ipynb#W6sZmlsZQ%3D%3D?line=11'>12</a>\u001b[0m \u001b[39m# output=my_function(pi,r)\u001b[39;00m\n\u001b[1;32m     <a href='vscode-notebook-cell:/Users/bashir/Documents/UCL/Foundations%20of%20Spatial%20Data%20Science/Arithmetic.ipynb#W6sZmlsZQ%3D%3D?line=12'>13</a>\u001b[0m \n\u001b[1;32m     <a href='vscode-notebook-cell:/Users/bashir/Documents/UCL/Foundations%20of%20Spatial%20Data%20Science/Arithmetic.ipynb#W6sZmlsZQ%3D%3D?line=13'>14</a>\u001b[0m \u001b[39m# print(output)\u001b[39;00m\n",
      "\u001b[0;31mTypeError\u001b[0m: my_function() takes 2 positional arguments but 3 were given"
     ]
    }
   ],
   "source": [
    "def my_function (a,b):\n",
    "    return (a*(b**2))\n",
    "\n",
    "\n",
    "pi = 3.142\n",
    "r = 6 \n",
    "\n",
    "my_function(pi, r)\n",
    "\n",
    "# A=(pi*(r**2))\n",
    "\n",
    "# output=my_function(pi,r)\n",
    "\n",
    "# print(output)"
   ]
  }
 ],
 "metadata": {
  "kernelspec": {
   "display_name": "Python 3",
   "language": "python",
   "name": "python3"
  },
  "language_info": {
   "codemirror_mode": {
    "name": "ipython",
    "version": 3
   },
   "file_extension": ".py",
   "mimetype": "text/x-python",
   "name": "python",
   "nbconvert_exporter": "python",
   "pygments_lexer": "ipython3",
   "version": "3.11.5"
  }
 },
 "nbformat": 4,
 "nbformat_minor": 2
}
